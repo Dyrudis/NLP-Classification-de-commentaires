{
 "cells": [
  {
   "attachments": {},
   "cell_type": "markdown",
   "metadata": {},
   "source": [
    "# Sommaire\n",
    "\n",
    "1. Importation des packages\n",
    "2. Importation des données\n",
    "3. Etude du jeu de données\n",
    "4. Préparation des données\n",
    "5. Entraînement du modèle baseline\n",
    "6. Itération de la modélisation\n",
    "7. Pipeline et classification"
   ]
  },
  {
   "attachments": {},
   "cell_type": "markdown",
   "metadata": {},
   "source": [
    "# Importation des packages"
   ]
  },
  {
   "cell_type": "code",
   "execution_count": 1,
   "metadata": {},
   "outputs": [
    {
     "name": "stderr",
     "output_type": "stream",
     "text": [
      "[nltk_data] Downloading package stopwords to\n",
      "[nltk_data]     C:\\Users\\Dyrudis\\AppData\\Roaming\\nltk_data...\n",
      "[nltk_data]   Package stopwords is already up-to-date!\n",
      "[nltk_data] Downloading package wordnet to\n",
      "[nltk_data]     C:\\Users\\Dyrudis\\AppData\\Roaming\\nltk_data...\n",
      "[nltk_data]   Package wordnet is already up-to-date!\n",
      "[nltk_data] Downloading package omw-1.4 to\n",
      "[nltk_data]     C:\\Users\\Dyrudis\\AppData\\Roaming\\nltk_data...\n",
      "[nltk_data]   Package omw-1.4 is already up-to-date!\n"
     ]
    },
    {
     "data": {
      "text/plain": [
       "True"
      ]
     },
     "execution_count": 1,
     "metadata": {},
     "output_type": "execute_result"
    }
   ],
   "source": [
    "import numpy as np\n",
    "import pandas as pd\n",
    "import matplotlib.pyplot as plt\n",
    "\n",
    "import tensorflow as tf\n",
    "import tensorflow_addons as tfa\n",
    "from tensorflow.keras.models import Sequential\n",
    "from tensorflow.keras.layers import Dense, Embedding, LSTM, GlobalMaxPool1D, Dropout\n",
    "from tensorflow.keras.preprocessing.text import Tokenizer\n",
    "\n",
    "from sklearn.ensemble import RandomForestClassifier\n",
    "from sklearn.model_selection import train_test_split\n",
    "from sklearn.metrics import accuracy_score\n",
    "from sklearn.feature_extraction.text import TfidfVectorizer\n",
    "\n",
    "import nltk\n",
    "from nltk.stem import WordNetLemmatizer\n",
    "\n",
    "nltk.download('stopwords')\n",
    "nltk.download('wordnet')\n",
    "nltk.download('omw-1.4')"
   ]
  },
  {
   "attachments": {},
   "cell_type": "markdown",
   "metadata": {},
   "source": [
    "# Importation des données"
   ]
  },
  {
   "cell_type": "code",
   "execution_count": 2,
   "metadata": {},
   "outputs": [
    {
     "data": {
      "text/html": [
       "<div>\n",
       "<style scoped>\n",
       "    .dataframe tbody tr th:only-of-type {\n",
       "        vertical-align: middle;\n",
       "    }\n",
       "\n",
       "    .dataframe tbody tr th {\n",
       "        vertical-align: top;\n",
       "    }\n",
       "\n",
       "    .dataframe thead th {\n",
       "        text-align: right;\n",
       "    }\n",
       "</style>\n",
       "<table border=\"1\" class=\"dataframe\">\n",
       "  <thead>\n",
       "    <tr style=\"text-align: right;\">\n",
       "      <th></th>\n",
       "      <th>comment_text</th>\n",
       "      <th>toxic</th>\n",
       "      <th>severe_toxic</th>\n",
       "      <th>obscene</th>\n",
       "      <th>threat</th>\n",
       "      <th>insult</th>\n",
       "      <th>identity_hate</th>\n",
       "    </tr>\n",
       "  </thead>\n",
       "  <tbody>\n",
       "    <tr>\n",
       "      <th>0</th>\n",
       "      <td>Explanation\\nWhy the edits made under my usern...</td>\n",
       "      <td>0</td>\n",
       "      <td>0</td>\n",
       "      <td>0</td>\n",
       "      <td>0</td>\n",
       "      <td>0</td>\n",
       "      <td>0</td>\n",
       "    </tr>\n",
       "    <tr>\n",
       "      <th>1</th>\n",
       "      <td>D'aww! He matches this background colour I'm s...</td>\n",
       "      <td>0</td>\n",
       "      <td>0</td>\n",
       "      <td>0</td>\n",
       "      <td>0</td>\n",
       "      <td>0</td>\n",
       "      <td>0</td>\n",
       "    </tr>\n",
       "    <tr>\n",
       "      <th>2</th>\n",
       "      <td>Hey man, I'm really not trying to edit war. It...</td>\n",
       "      <td>0</td>\n",
       "      <td>0</td>\n",
       "      <td>0</td>\n",
       "      <td>0</td>\n",
       "      <td>0</td>\n",
       "      <td>0</td>\n",
       "    </tr>\n",
       "    <tr>\n",
       "      <th>3</th>\n",
       "      <td>\"\\nMore\\nI can't make any real suggestions on ...</td>\n",
       "      <td>0</td>\n",
       "      <td>0</td>\n",
       "      <td>0</td>\n",
       "      <td>0</td>\n",
       "      <td>0</td>\n",
       "      <td>0</td>\n",
       "    </tr>\n",
       "    <tr>\n",
       "      <th>4</th>\n",
       "      <td>You, sir, are my hero. Any chance you remember...</td>\n",
       "      <td>0</td>\n",
       "      <td>0</td>\n",
       "      <td>0</td>\n",
       "      <td>0</td>\n",
       "      <td>0</td>\n",
       "      <td>0</td>\n",
       "    </tr>\n",
       "    <tr>\n",
       "      <th>...</th>\n",
       "      <td>...</td>\n",
       "      <td>...</td>\n",
       "      <td>...</td>\n",
       "      <td>...</td>\n",
       "      <td>...</td>\n",
       "      <td>...</td>\n",
       "      <td>...</td>\n",
       "    </tr>\n",
       "    <tr>\n",
       "      <th>2369</th>\n",
       "      <td>(UTC) This sentence is an editorial opinion an...</td>\n",
       "      <td>0</td>\n",
       "      <td>0</td>\n",
       "      <td>0</td>\n",
       "      <td>0</td>\n",
       "      <td>0</td>\n",
       "      <td>0</td>\n",
       "    </tr>\n",
       "    <tr>\n",
       "      <th>2370</th>\n",
       "      <td>Have you a brit? \\n\\nThats for you! 80.99.29.195</td>\n",
       "      <td>0</td>\n",
       "      <td>0</td>\n",
       "      <td>0</td>\n",
       "      <td>0</td>\n",
       "      <td>0</td>\n",
       "      <td>0</td>\n",
       "    </tr>\n",
       "    <tr>\n",
       "      <th>2371</th>\n",
       "      <td>Don't Talk\\nGoogie Man, I got 2 simple words f...</td>\n",
       "      <td>1</td>\n",
       "      <td>0</td>\n",
       "      <td>0</td>\n",
       "      <td>0</td>\n",
       "      <td>0</td>\n",
       "      <td>0</td>\n",
       "    </tr>\n",
       "    <tr>\n",
       "      <th>2372</th>\n",
       "      <td>\"\\n\\nwhy don't you \"\"REMOVE\"\" my free speech y...</td>\n",
       "      <td>1</td>\n",
       "      <td>0</td>\n",
       "      <td>1</td>\n",
       "      <td>0</td>\n",
       "      <td>1</td>\n",
       "      <td>0</td>\n",
       "    </tr>\n",
       "    <tr>\n",
       "      <th>2373</th>\n",
       "      <td>Go kill yourself \\n\\nYou should be ashamed of ...</td>\n",
       "      <td>1</td>\n",
       "      <td>0</td>\n",
       "      <td>1</td>\n",
       "      <td>1</td>\n",
       "      <td>1</td>\n",
       "      <td>0</td>\n",
       "    </tr>\n",
       "  </tbody>\n",
       "</table>\n",
       "<p>2374 rows × 7 columns</p>\n",
       "</div>"
      ],
      "text/plain": [
       "                                           comment_text  toxic  severe_toxic  \\\n",
       "0     Explanation\\nWhy the edits made under my usern...      0             0   \n",
       "1     D'aww! He matches this background colour I'm s...      0             0   \n",
       "2     Hey man, I'm really not trying to edit war. It...      0             0   \n",
       "3     \"\\nMore\\nI can't make any real suggestions on ...      0             0   \n",
       "4     You, sir, are my hero. Any chance you remember...      0             0   \n",
       "...                                                 ...    ...           ...   \n",
       "2369  (UTC) This sentence is an editorial opinion an...      0             0   \n",
       "2370   Have you a brit? \\n\\nThats for you! 80.99.29.195      0             0   \n",
       "2371  Don't Talk\\nGoogie Man, I got 2 simple words f...      1             0   \n",
       "2372  \"\\n\\nwhy don't you \"\"REMOVE\"\" my free speech y...      1             0   \n",
       "2373  Go kill yourself \\n\\nYou should be ashamed of ...      1             0   \n",
       "\n",
       "      obscene  threat  insult  identity_hate  \n",
       "0           0       0       0              0  \n",
       "1           0       0       0              0  \n",
       "2           0       0       0              0  \n",
       "3           0       0       0              0  \n",
       "4           0       0       0              0  \n",
       "...       ...     ...     ...            ...  \n",
       "2369        0       0       0              0  \n",
       "2370        0       0       0              0  \n",
       "2371        0       0       0              0  \n",
       "2372        1       0       1              0  \n",
       "2373        1       1       1              0  \n",
       "\n",
       "[2374 rows x 7 columns]"
      ]
     },
     "execution_count": 2,
     "metadata": {},
     "output_type": "execute_result"
    }
   ],
   "source": [
    "# Lecture des données\n",
    "train = pd.read_csv('./data/train.csv')\n",
    "test = pd.read_csv('./data/test.csv')\n",
    "\n",
    "# On ne garde que les 5000 premiers exemples (pour les tests)\n",
    "train = train[:15000]\n",
    "\n",
    "# On supprime la colonne 'id' qui ne nous sert pas\n",
    "train = train.drop('id', axis=1)\n",
    "\n",
    "# Affichage des données\n",
    "train.head(2374)"
   ]
  },
  {
   "attachments": {},
   "cell_type": "markdown",
   "metadata": {},
   "source": [
    "# Etude du jeu de données"
   ]
  },
  {
   "cell_type": "code",
   "execution_count": 3,
   "metadata": {},
   "outputs": [
    {
     "data": {
      "text/plain": [
       "toxic            1439\n",
       "severe_toxic      158\n",
       "obscene           789\n",
       "threat             50\n",
       "insult            749\n",
       "identity_hate     133\n",
       "dtype: int64"
      ]
     },
     "execution_count": 3,
     "metadata": {},
     "output_type": "execute_result"
    }
   ],
   "source": [
    "# On affiche le nombre de commentaires de chaque catégorie\n",
    "train[['toxic', 'severe_toxic', 'obscene', 'threat', 'insult', 'identity_hate']].sum()"
   ]
  },
  {
   "cell_type": "code",
   "execution_count": 4,
   "metadata": {},
   "outputs": [
    {
     "name": "stdout",
     "output_type": "stream",
     "text": [
      "Commentaire pour la colonne toxic :\n",
      "\"700    Matt, when mattsanchez.info goes live on Monda...\n",
      "Name: comment_text, dtype: object\"\n",
      "\n",
      "Commentaire pour la colonne severe_toxic :\n",
      "\"6063    n i g g e r f a g g o t\n",
      "Name: comment_text, dtype: object\"\n",
      "\n",
      "Commentaire pour la colonne obscene :\n",
      "\"4671    Penis \\n\\nDid you sex with Grawp? H-A-6-6-E-P?...\n",
      "Name: comment_text, dtype: object\"\n",
      "\n",
      "Commentaire pour la colonne threat :\n",
      "\"9650    That's it. Remember last time you fucked with ...\n",
      "Name: comment_text, dtype: object\"\n",
      "\n",
      "Commentaire pour la colonne insult :\n",
      "\"1928    Moral Defense, you slimy toad you.\n",
      "Name: comment_text, dtype: object\"\n",
      "\n",
      "Commentaire pour la colonne identity_hate :\n",
      "\"2469    \"\\nActually I am fully Arabic and Islamic and ...\n",
      "Name: comment_text, dtype: object\"\n",
      "\n"
     ]
    }
   ],
   "source": [
    "# Affichage d'un commentaire aléatoire pour chaque catégorie\n",
    "for column in ['toxic', 'severe_toxic', 'obscene', 'threat', 'insult', 'identity_hate']:\n",
    "    sample = train[train[column] == 1]['comment_text'].sample(1)\n",
    "    print(f\"Commentaire pour la colonne {column} :\\n\\\"{sample}\\\"\\n\")"
   ]
  },
  {
   "cell_type": "code",
   "execution_count": 5,
   "metadata": {},
   "outputs": [
    {
     "data": {
      "image/png": "[encoded data removed]",
      "text/plain": [
       "<Figure size 640x480 with 1 Axes>"
      ]
     },
     "metadata": {},
     "output_type": "display_data"
    }
   ],
   "source": [
    "# Affichage du nombre de commentaires avec un certain nombre de catégories\n",
    "# On voit que la plupart des commentaires sont neutres\n",
    "labels = train[['toxic', 'severe_toxic', 'obscene', 'threat', 'insult', 'identity_hate']].values\n",
    "labels = np.sum(labels, axis=1)\n",
    "plt.hist(labels)\n",
    "plt.show()"
   ]
  },
  {
   "attachments": {},
   "cell_type": "markdown",
   "metadata": {},
   "source": [
    "# Préparation des données"
   ]
  },
  {
   "cell_type": "code",
   "execution_count": 6,
   "metadata": {},
   "outputs": [
    {
     "data": {
      "text/html": [
       "<div>\n",
       "<style scoped>\n",
       "    .dataframe tbody tr th:only-of-type {\n",
       "        vertical-align: middle;\n",
       "    }\n",
       "\n",
       "    .dataframe tbody tr th {\n",
       "        vertical-align: top;\n",
       "    }\n",
       "\n",
       "    .dataframe thead th {\n",
       "        text-align: right;\n",
       "    }\n",
       "</style>\n",
       "<table border=\"1\" class=\"dataframe\">\n",
       "  <thead>\n",
       "    <tr style=\"text-align: right;\">\n",
       "      <th></th>\n",
       "      <th>comment_text</th>\n",
       "      <th>toxic</th>\n",
       "      <th>severe_toxic</th>\n",
       "      <th>obscene</th>\n",
       "      <th>threat</th>\n",
       "      <th>insult</th>\n",
       "      <th>identity_hate</th>\n",
       "    </tr>\n",
       "  </thead>\n",
       "  <tbody>\n",
       "    <tr>\n",
       "      <th>0</th>\n",
       "      <td>explanation\\nwhy the edits made under my usern...</td>\n",
       "      <td>0</td>\n",
       "      <td>0</td>\n",
       "      <td>0</td>\n",
       "      <td>0</td>\n",
       "      <td>0</td>\n",
       "      <td>0</td>\n",
       "    </tr>\n",
       "    <tr>\n",
       "      <th>1</th>\n",
       "      <td>d'aww! he matches this background colour i'm s...</td>\n",
       "      <td>0</td>\n",
       "      <td>0</td>\n",
       "      <td>0</td>\n",
       "      <td>0</td>\n",
       "      <td>0</td>\n",
       "      <td>0</td>\n",
       "    </tr>\n",
       "    <tr>\n",
       "      <th>2</th>\n",
       "      <td>hey man, i'm really not trying to edit war. it...</td>\n",
       "      <td>0</td>\n",
       "      <td>0</td>\n",
       "      <td>0</td>\n",
       "      <td>0</td>\n",
       "      <td>0</td>\n",
       "      <td>0</td>\n",
       "    </tr>\n",
       "    <tr>\n",
       "      <th>3</th>\n",
       "      <td>\"\\nmore\\ni can't make any real suggestions on ...</td>\n",
       "      <td>0</td>\n",
       "      <td>0</td>\n",
       "      <td>0</td>\n",
       "      <td>0</td>\n",
       "      <td>0</td>\n",
       "      <td>0</td>\n",
       "    </tr>\n",
       "    <tr>\n",
       "      <th>4</th>\n",
       "      <td>you, sir, are my hero. any chance you remember...</td>\n",
       "      <td>0</td>\n",
       "      <td>0</td>\n",
       "      <td>0</td>\n",
       "      <td>0</td>\n",
       "      <td>0</td>\n",
       "      <td>0</td>\n",
       "    </tr>\n",
       "  </tbody>\n",
       "</table>\n",
       "</div>"
      ],
      "text/plain": [
       "                                        comment_text  toxic  severe_toxic  \\\n",
       "0  explanation\\nwhy the edits made under my usern...      0             0   \n",
       "1  d'aww! he matches this background colour i'm s...      0             0   \n",
       "2  hey man, i'm really not trying to edit war. it...      0             0   \n",
       "3  \"\\nmore\\ni can't make any real suggestions on ...      0             0   \n",
       "4  you, sir, are my hero. any chance you remember...      0             0   \n",
       "\n",
       "   obscene  threat  insult  identity_hate  \n",
       "0        0       0       0              0  \n",
       "1        0       0       0              0  \n",
       "2        0       0       0              0  \n",
       "3        0       0       0              0  \n",
       "4        0       0       0              0  "
      ]
     },
     "execution_count": 6,
     "metadata": {},
     "output_type": "execute_result"
    }
   ],
   "source": [
    "# On met les commentaires en minuscules\n",
    "train['comment_text'] = train['comment_text'].str.lower()\n",
    "\n",
    "# Affichage des données\n",
    "train.head()"
   ]
  },
  {
   "cell_type": "code",
   "execution_count": 7,
   "metadata": {},
   "outputs": [
    {
     "data": {
      "text/html": [
       "<div>\n",
       "<style scoped>\n",
       "    .dataframe tbody tr th:only-of-type {\n",
       "        vertical-align: middle;\n",
       "    }\n",
       "\n",
       "    .dataframe tbody tr th {\n",
       "        vertical-align: top;\n",
       "    }\n",
       "\n",
       "    .dataframe thead th {\n",
       "        text-align: right;\n",
       "    }\n",
       "</style>\n",
       "<table border=\"1\" class=\"dataframe\">\n",
       "  <thead>\n",
       "    <tr style=\"text-align: right;\">\n",
       "      <th></th>\n",
       "      <th>comment_text</th>\n",
       "      <th>toxic</th>\n",
       "      <th>severe_toxic</th>\n",
       "      <th>obscene</th>\n",
       "      <th>threat</th>\n",
       "      <th>insult</th>\n",
       "      <th>identity_hate</th>\n",
       "    </tr>\n",
       "  </thead>\n",
       "  <tbody>\n",
       "    <tr>\n",
       "      <th>0</th>\n",
       "      <td>[explanation, why, the, edits, made, under, my...</td>\n",
       "      <td>0</td>\n",
       "      <td>0</td>\n",
       "      <td>0</td>\n",
       "      <td>0</td>\n",
       "      <td>0</td>\n",
       "      <td>0</td>\n",
       "    </tr>\n",
       "    <tr>\n",
       "      <th>1</th>\n",
       "      <td>[d, aww, he, matches, this, background, colour...</td>\n",
       "      <td>0</td>\n",
       "      <td>0</td>\n",
       "      <td>0</td>\n",
       "      <td>0</td>\n",
       "      <td>0</td>\n",
       "      <td>0</td>\n",
       "    </tr>\n",
       "    <tr>\n",
       "      <th>2</th>\n",
       "      <td>[hey, man, i, m, really, not, trying, to, edit...</td>\n",
       "      <td>0</td>\n",
       "      <td>0</td>\n",
       "      <td>0</td>\n",
       "      <td>0</td>\n",
       "      <td>0</td>\n",
       "      <td>0</td>\n",
       "    </tr>\n",
       "    <tr>\n",
       "      <th>3</th>\n",
       "      <td>[more, i, can, t, make, any, real, suggestions...</td>\n",
       "      <td>0</td>\n",
       "      <td>0</td>\n",
       "      <td>0</td>\n",
       "      <td>0</td>\n",
       "      <td>0</td>\n",
       "      <td>0</td>\n",
       "    </tr>\n",
       "    <tr>\n",
       "      <th>4</th>\n",
       "      <td>[you, sir, are, my, hero, any, chance, you, re...</td>\n",
       "      <td>0</td>\n",
       "      <td>0</td>\n",
       "      <td>0</td>\n",
       "      <td>0</td>\n",
       "      <td>0</td>\n",
       "      <td>0</td>\n",
       "    </tr>\n",
       "  </tbody>\n",
       "</table>\n",
       "</div>"
      ],
      "text/plain": [
       "                                        comment_text  toxic  severe_toxic  \\\n",
       "0  [explanation, why, the, edits, made, under, my...      0             0   \n",
       "1  [d, aww, he, matches, this, background, colour...      0             0   \n",
       "2  [hey, man, i, m, really, not, trying, to, edit...      0             0   \n",
       "3  [more, i, can, t, make, any, real, suggestions...      0             0   \n",
       "4  [you, sir, are, my, hero, any, chance, you, re...      0             0   \n",
       "\n",
       "   obscene  threat  insult  identity_hate  \n",
       "0        0       0       0              0  \n",
       "1        0       0       0              0  \n",
       "2        0       0       0              0  \n",
       "3        0       0       0              0  \n",
       "4        0       0       0              0  "
      ]
     },
     "execution_count": 7,
     "metadata": {},
     "output_type": "execute_result"
    }
   ],
   "source": [
    "# On supprime les caractères spéciaux et on sépare les mots avec nltk\n",
    "tokenizer = nltk.RegexpTokenizer(r'\\w+')\n",
    "train['comment_text'] = train['comment_text'].apply(tokenizer.tokenize)\n",
    "\n",
    "# Affichage des données\n",
    "train.head()"
   ]
  },
  {
   "cell_type": "code",
   "execution_count": 8,
   "metadata": {},
   "outputs": [
    {
     "data": {
      "text/html": [
       "<div>\n",
       "<style scoped>\n",
       "    .dataframe tbody tr th:only-of-type {\n",
       "        vertical-align: middle;\n",
       "    }\n",
       "\n",
       "    .dataframe tbody tr th {\n",
       "        vertical-align: top;\n",
       "    }\n",
       "\n",
       "    .dataframe thead th {\n",
       "        text-align: right;\n",
       "    }\n",
       "</style>\n",
       "<table border=\"1\" class=\"dataframe\">\n",
       "  <thead>\n",
       "    <tr style=\"text-align: right;\">\n",
       "      <th></th>\n",
       "      <th>comment_text</th>\n",
       "      <th>toxic</th>\n",
       "      <th>severe_toxic</th>\n",
       "      <th>obscene</th>\n",
       "      <th>threat</th>\n",
       "      <th>insult</th>\n",
       "      <th>identity_hate</th>\n",
       "    </tr>\n",
       "  </thead>\n",
       "  <tbody>\n",
       "    <tr>\n",
       "      <th>0</th>\n",
       "      <td>[explanation, edits, made, username, hardcore,...</td>\n",
       "      <td>0</td>\n",
       "      <td>0</td>\n",
       "      <td>0</td>\n",
       "      <td>0</td>\n",
       "      <td>0</td>\n",
       "      <td>0</td>\n",
       "    </tr>\n",
       "    <tr>\n",
       "      <th>1</th>\n",
       "      <td>[aww, matches, background, colour, seemingly, ...</td>\n",
       "      <td>0</td>\n",
       "      <td>0</td>\n",
       "      <td>0</td>\n",
       "      <td>0</td>\n",
       "      <td>0</td>\n",
       "      <td>0</td>\n",
       "    </tr>\n",
       "    <tr>\n",
       "      <th>2</th>\n",
       "      <td>[hey, edit, guy, constantly, removing, relevan...</td>\n",
       "      <td>0</td>\n",
       "      <td>0</td>\n",
       "      <td>0</td>\n",
       "      <td>0</td>\n",
       "      <td>0</td>\n",
       "      <td>0</td>\n",
       "    </tr>\n",
       "    <tr>\n",
       "      <th>3</th>\n",
       "      <td>[make, real, suggestions, improvement, wondere...</td>\n",
       "      <td>0</td>\n",
       "      <td>0</td>\n",
       "      <td>0</td>\n",
       "      <td>0</td>\n",
       "      <td>0</td>\n",
       "      <td>0</td>\n",
       "    </tr>\n",
       "    <tr>\n",
       "      <th>4</th>\n",
       "      <td>[sir, hero, chance, remember, page]</td>\n",
       "      <td>0</td>\n",
       "      <td>0</td>\n",
       "      <td>0</td>\n",
       "      <td>0</td>\n",
       "      <td>0</td>\n",
       "      <td>0</td>\n",
       "    </tr>\n",
       "  </tbody>\n",
       "</table>\n",
       "</div>"
      ],
      "text/plain": [
       "                                        comment_text  toxic  severe_toxic  \\\n",
       "0  [explanation, edits, made, username, hardcore,...      0             0   \n",
       "1  [aww, matches, background, colour, seemingly, ...      0             0   \n",
       "2  [hey, edit, guy, constantly, removing, relevan...      0             0   \n",
       "3  [make, real, suggestions, improvement, wondere...      0             0   \n",
       "4                [sir, hero, chance, remember, page]      0             0   \n",
       "\n",
       "   obscene  threat  insult  identity_hate  \n",
       "0        0       0       0              0  \n",
       "1        0       0       0              0  \n",
       "2        0       0       0              0  \n",
       "3        0       0       0              0  \n",
       "4        0       0       0              0  "
      ]
     },
     "execution_count": 8,
     "metadata": {},
     "output_type": "execute_result"
    }
   ],
   "source": [
    "# On supprime les stopwords\n",
    "stopwords = nltk.corpus.stopwords.words()\n",
    "train['comment_text'] = train['comment_text'].apply(lambda x: [word for word in x if word not in stopwords])\n",
    "\n",
    "# Affichage des données\n",
    "train.head()"
   ]
  },
  {
   "cell_type": "code",
   "execution_count": 9,
   "metadata": {},
   "outputs": [
    {
     "data": {
      "text/html": [
       "<div>\n",
       "<style scoped>\n",
       "    .dataframe tbody tr th:only-of-type {\n",
       "        vertical-align: middle;\n",
       "    }\n",
       "\n",
       "    .dataframe tbody tr th {\n",
       "        vertical-align: top;\n",
       "    }\n",
       "\n",
       "    .dataframe thead th {\n",
       "        text-align: right;\n",
       "    }\n",
       "</style>\n",
       "<table border=\"1\" class=\"dataframe\">\n",
       "  <thead>\n",
       "    <tr style=\"text-align: right;\">\n",
       "      <th></th>\n",
       "      <th>comment_text</th>\n",
       "      <th>toxic</th>\n",
       "      <th>severe_toxic</th>\n",
       "      <th>obscene</th>\n",
       "      <th>threat</th>\n",
       "      <th>insult</th>\n",
       "      <th>identity_hate</th>\n",
       "    </tr>\n",
       "  </thead>\n",
       "  <tbody>\n",
       "    <tr>\n",
       "      <th>0</th>\n",
       "      <td>[explanation, edits, made, username, hardcore,...</td>\n",
       "      <td>0</td>\n",
       "      <td>0</td>\n",
       "      <td>0</td>\n",
       "      <td>0</td>\n",
       "      <td>0</td>\n",
       "      <td>0</td>\n",
       "    </tr>\n",
       "    <tr>\n",
       "      <th>1</th>\n",
       "      <td>[aww, match, background, colour, seemingly, st...</td>\n",
       "      <td>0</td>\n",
       "      <td>0</td>\n",
       "      <td>0</td>\n",
       "      <td>0</td>\n",
       "      <td>0</td>\n",
       "      <td>0</td>\n",
       "    </tr>\n",
       "    <tr>\n",
       "      <th>2</th>\n",
       "      <td>[hey, edit, guy, constantly, removing, relevan...</td>\n",
       "      <td>0</td>\n",
       "      <td>0</td>\n",
       "      <td>0</td>\n",
       "      <td>0</td>\n",
       "      <td>0</td>\n",
       "      <td>0</td>\n",
       "    </tr>\n",
       "    <tr>\n",
       "      <th>3</th>\n",
       "      <td>[make, real, suggestion, improvement, wondered...</td>\n",
       "      <td>0</td>\n",
       "      <td>0</td>\n",
       "      <td>0</td>\n",
       "      <td>0</td>\n",
       "      <td>0</td>\n",
       "      <td>0</td>\n",
       "    </tr>\n",
       "    <tr>\n",
       "      <th>4</th>\n",
       "      <td>[sir, hero, chance, remember, page]</td>\n",
       "      <td>0</td>\n",
       "      <td>0</td>\n",
       "      <td>0</td>\n",
       "      <td>0</td>\n",
       "      <td>0</td>\n",
       "      <td>0</td>\n",
       "    </tr>\n",
       "  </tbody>\n",
       "</table>\n",
       "</div>"
      ],
      "text/plain": [
       "                                        comment_text  toxic  severe_toxic  \\\n",
       "0  [explanation, edits, made, username, hardcore,...      0             0   \n",
       "1  [aww, match, background, colour, seemingly, st...      0             0   \n",
       "2  [hey, edit, guy, constantly, removing, relevan...      0             0   \n",
       "3  [make, real, suggestion, improvement, wondered...      0             0   \n",
       "4                [sir, hero, chance, remember, page]      0             0   \n",
       "\n",
       "   obscene  threat  insult  identity_hate  \n",
       "0        0       0       0              0  \n",
       "1        0       0       0              0  \n",
       "2        0       0       0              0  \n",
       "3        0       0       0              0  \n",
       "4        0       0       0              0  "
      ]
     },
     "execution_count": 9,
     "metadata": {},
     "output_type": "execute_result"
    }
   ],
   "source": [
    "# On lemmatise les mots\n",
    "Word_Lemmatizer = WordNetLemmatizer()\n",
    "train['comment_text'] = train['comment_text'].apply(lambda x: [Word_Lemmatizer.lemmatize(word) for word in x])\n",
    "\n",
    "# Affichage des données\n",
    "train.head()"
   ]
  },
  {
   "cell_type": "code",
   "execution_count": 10,
   "metadata": {},
   "outputs": [
    {
     "data": {
      "text/plain": [
       "['explanation edits made username hardcore metallica reverted vandalism closure gas voted york doll fac remove template talk page retired 89 205 38 27',\n",
       " 'aww match background colour seemingly stuck talk 21 51 january 11 2016 utc',\n",
       " 'hey edit guy constantly removing relevant information talking edits instead talk page formatting actual info']"
      ]
     },
     "execution_count": 10,
     "metadata": {},
     "output_type": "execute_result"
    }
   ],
   "source": [
    "# Enfin, on reconstitue les phrases\n",
    "sentences = list(map(lambda x : \" \".join(x), train['comment_text']))\n",
    "\n",
    "# Affichage des données\n",
    "sentences[:3]"
   ]
  },
  {
   "attachments": {},
   "cell_type": "markdown",
   "metadata": {},
   "source": [
    "# Entraînement du modèle baseline"
   ]
  },
  {
   "cell_type": "code",
   "execution_count": 11,
   "metadata": {},
   "outputs": [
    {
     "name": "stdout",
     "output_type": "stream",
     "text": [
      "Train sequences shape : (13500, 41870)\n",
      "Test sequences shape : (1500, 41870)\n",
      "Train labels shape : (13500,)\n",
      "Test labels shape : (1500,)\n"
     ]
    }
   ],
   "source": [
    "# Pour le premier modèle, on va utiliser un Random Forest Classifier\n",
    "# Avant cela, on va vectoriser les phrases avec TF-IDF\n",
    "vectorizer = TfidfVectorizer()\n",
    "\n",
    "# On fit le vectorizer sur les phrases\n",
    "vectorizer.fit(sentences)\n",
    "\n",
    "# On transforme les phrases en vecteurs\n",
    "vectors = vectorizer.transform(sentences)\n",
    "\n",
    "# Séparation des données en train et test\n",
    "train_vectors, test_vectors, train_labels, test_labels = train_test_split(vectors, labels, test_size=0.1, random_state=0)\n",
    "\n",
    "# Affichage des dimensions des données\n",
    "print(f\"Train sequences shape : {train_vectors.shape}\")\n",
    "print(f\"Test sequences shape : {test_vectors.shape}\")\n",
    "print(f\"Train labels shape : {train_labels.shape}\")\n",
    "print(f\"Test labels shape : {test_labels.shape}\")"
   ]
  },
  {
   "cell_type": "code",
   "execution_count": 12,
   "metadata": {},
   "outputs": [
    {
     "name": "stdout",
     "output_type": "stream",
     "text": [
      "Accuracy : 0.9186666666666666\n"
     ]
    }
   ],
   "source": [
    "# Maintenant, on peut créer le modèle\n",
    "model = RandomForestClassifier(n_estimators=15,random_state=0)\n",
    "\n",
    "# Entrainement du modèle\n",
    "model.fit(train_vectors, train_labels)\n",
    "\n",
    "# Prédiction sur les données de test\n",
    "predictions = model.predict(test_vectors)\n",
    "\n",
    "# Affichage de l'accuracy\n",
    "print(f\"Accuracy : {accuracy_score(test_labels, predictions)}\")"
   ]
  },
  {
   "attachments": {},
   "cell_type": "markdown",
   "metadata": {},
   "source": [
    "# Itération de la modélisation"
   ]
  },
  {
   "cell_type": "code",
   "execution_count": 13,
   "metadata": {},
   "outputs": [
    {
     "name": "stdout",
     "output_type": "stream",
     "text": [
      "Train sequences shape : (13500, 200)\n",
      "Test sequences shape : (1500, 200)\n",
      "Train labels shape : (13500, 6)\n",
      "Test labels shape : (1500, 6)\n"
     ]
    }
   ],
   "source": [
    "# Pour le deuxième modèle, on va utiliser un réseau de neurones récurrent (RNN)\n",
    "# Avant cela, on va tokeniser les phrases et leur donner la même longueur\n",
    "\n",
    "# Création du tokenizer\n",
    "tokenizer = Tokenizer(num_words=20000)\n",
    "tokenizer.fit_on_texts(sentences)\n",
    "\n",
    "# Récupération du vocabulaire\n",
    "word_index = tokenizer.word_index\n",
    "vocab_size = len(word_index)\n",
    "\n",
    "# Tokenisation des phrases\n",
    "sequences = tokenizer.texts_to_sequences(sentences)\n",
    "\n",
    "# Padding des phrases\n",
    "max_length = 200\n",
    "padded = tf.keras.preprocessing.sequence.pad_sequences(sequences, maxlen=max_length, padding='post', truncating='post')\n",
    "labels = np.array(train[['toxic', 'severe_toxic', 'obscene', 'threat', 'insult', 'identity_hate']].values)\n",
    "\n",
    "# Séparation des données en train et test\n",
    "train_sequences, test_sequences, train_labels, test_labels = train_test_split(padded, labels, test_size=0.1, random_state=0)\n",
    "\n",
    "# Affichage des dimensions des données\n",
    "print(f\"Train sequences shape : {train_sequences.shape}\")\n",
    "print(f\"Test sequences shape : {test_sequences.shape}\")\n",
    "print(f\"Train labels shape : {train_labels.shape}\")\n",
    "print(f\"Test labels shape : {test_labels.shape}\")"
   ]
  },
  {
   "cell_type": "code",
   "execution_count": 14,
   "metadata": {},
   "outputs": [
    {
     "name": "stdout",
     "output_type": "stream",
     "text": [
      "Model: \"sequential\"\n",
      "_________________________________________________________________\n",
      " Layer (type)                Output Shape              Param #   \n",
      "=================================================================\n",
      " embedding (Embedding)       (None, 200, 100)          4205500   \n",
      "                                                                 \n",
      " lstm (LSTM)                 (None, 200, 60)           38640     \n",
      "                                                                 \n",
      " global_max_pooling1d (Globa  (None, 60)               0         \n",
      " lMaxPooling1D)                                                  \n",
      "                                                                 \n",
      " dropout (Dropout)           (None, 60)                0         \n",
      "                                                                 \n",
      " dense (Dense)               (None, 50)                3050      \n",
      "                                                                 \n",
      " dropout_1 (Dropout)         (None, 50)                0         \n",
      "                                                                 \n",
      " dense_1 (Dense)             (None, 6)                 306       \n",
      "                                                                 \n",
      "=================================================================\n",
      "Total params: 4,247,496\n",
      "Trainable params: 4,247,496\n",
      "Non-trainable params: 0\n",
      "_________________________________________________________________\n"
     ]
    }
   ],
   "source": [
    "embedding_dim = 100\n",
    "\n",
    "# Création du modèle\n",
    "model = Sequential([\n",
    "    Embedding(vocab_size+1, embedding_dim, input_length=max_length),\n",
    "    LSTM(units=60, return_sequences=True),\n",
    "    GlobalMaxPool1D(),\n",
    "    Dropout(0.1),\n",
    "    Dense(50, activation='relu'),\n",
    "    Dropout(0.1),\n",
    "    Dense(6, activation='sigmoid')\n",
    "])\n",
    "\n",
    "# Création de la métrique F1\n",
    "f1_score = tfa.metrics.F1Score(num_classes=6, threshold=0.9)\n",
    "\n",
    "# Compilation du modèle\n",
    "model.compile(optimizer='adam', loss=\"categorical_crossentropy\", metrics=['accuracy', f1_score])\n",
    "\n",
    "# Affichage du résumé du modèle\n",
    "model.summary()"
   ]
  },
  {
   "cell_type": "code",
   "execution_count": 15,
   "metadata": {},
   "outputs": [
    {
     "name": "stdout",
     "output_type": "stream",
     "text": [
      "Epoch 1/5\n",
      "422/422 [==============================] - 49s 112ms/step - loss: 1.0674 - accuracy: 0.6616 - f1_score: 0.0000e+00 - val_loss: 0.3744 - val_accuracy: 0.9973 - val_f1_score: 0.0000e+00\n",
      "Epoch 2/5\n",
      "422/422 [==============================] - 46s 110ms/step - loss: 2.8233 - accuracy: 0.9941 - f1_score: 0.0000e+00 - val_loss: 1.7677 - val_accuracy: 0.9973 - val_f1_score: 0.0000e+00\n",
      "Epoch 3/5\n",
      "422/422 [==============================] - 46s 108ms/step - loss: 4.9517 - accuracy: 0.9941 - f1_score: 0.0000e+00 - val_loss: 3.2257 - val_accuracy: 0.9973 - val_f1_score: 0.0000e+00\n",
      "Epoch 4/5\n",
      "422/422 [==============================] - 47s 112ms/step - loss: 7.1160 - accuracy: 0.9935 - f1_score: 0.2864 - val_loss: 4.8926 - val_accuracy: 0.9967 - val_f1_score: 0.3873\n",
      "Epoch 5/5\n",
      "422/422 [==============================] - 49s 116ms/step - loss: 10.9881 - accuracy: 0.9935 - f1_score: 0.4618 - val_loss: 8.8281 - val_accuracy: 0.9973 - val_f1_score: 0.3765\n"
     ]
    }
   ],
   "source": [
    "num_epochs = 5\n",
    "\n",
    "# Entrainement du modèle\n",
    "history = model.fit(train_sequences, train_labels, epochs=num_epochs, validation_data=(test_sequences, test_labels))"
   ]
  },
  {
   "cell_type": "code",
   "execution_count": 16,
   "metadata": {},
   "outputs": [
    {
     "data": {
      "image/png": "[encoded data removed]",
      "text/plain": [
       "<Figure size 640x480 with 1 Axes>"
      ]
     },
     "metadata": {},
     "output_type": "display_data"
    },
    {
     "data": {
      "text/plain": [
       "<Figure size 640x480 with 0 Axes>"
      ]
     },
     "metadata": {},
     "output_type": "display_data"
    },
    {
     "name": "stdout",
     "output_type": "stream",
     "text": [
      "47/47 [==============================] - 2s 34ms/step\n",
      "F1 score : [0.5714286  0.29126215 0.63803685 0.04705882 0.60240966 0.10810811]\n"
     ]
    }
   ],
   "source": [
    "# Affichage des courbes de métriques\n",
    "acc=history.history['accuracy']\n",
    "val_acc=history.history['val_accuracy']\n",
    "\n",
    "epochs=range(len(acc))\n",
    "\n",
    "plt.plot(epochs, acc, 'r')\n",
    "plt.plot(epochs, val_acc, 'b')\n",
    "plt.title('Training and validation accuracy')\n",
    "plt.xlabel(\"Epochs\")\n",
    "plt.ylabel(\"Accuracy\")\n",
    "plt.legend([\"Accuracy\", \"Validation Accuracy\"])\n",
    "plt.figure()\n",
    "plt.show()\n",
    "\n",
    "# Affichage du F1 score\n",
    "predictions = model.predict(test_sequences)\n",
    "predictions = np.round(predictions)\n",
    "print(f\"F1 score : {f1_score(test_labels, predictions)}\")"
   ]
  },
  {
   "cell_type": "code",
   "execution_count": 17,
   "metadata": {},
   "outputs": [],
   "source": [
    "# On peut de nouveau itérer sur le modèle pour améliorer les résultats.\n",
    "# Pour cela, on va utiliser une matrice d'embedding.\n",
    "embedding_dim = 100\n",
    "embeddings_matrix = np.zeros((vocab_size+1, embedding_dim))\n",
    "\n",
    "embeddings_index = {};\n",
    "\n",
    "with open('./data/glove.6B.100d.txt') as f:\n",
    "    for line in f:\n",
    "        values = line.split();\n",
    "        word = values[0];\n",
    "        coefs = np.asarray(values[1:], dtype='float32');\n",
    "        embeddings_index[word] = coefs;\n",
    "\n",
    "embeddings_matrix = np.zeros((vocab_size+1, embedding_dim));\n",
    "for word, i in word_index.items():\n",
    "    embedding_vector = embeddings_index.get(word);\n",
    "    if embedding_vector is not None:\n",
    "        embeddings_matrix[i] = embedding_vector;"
   ]
  },
  {
   "cell_type": "code",
   "execution_count": 18,
   "metadata": {},
   "outputs": [
    {
     "name": "stdout",
     "output_type": "stream",
     "text": [
      "Model: \"sequential_1\"\n",
      "_________________________________________________________________\n",
      " Layer (type)                Output Shape              Param #   \n",
      "=================================================================\n",
      " embedding_1 (Embedding)     (None, 200, 100)          4205500   \n",
      "                                                                 \n",
      " lstm_1 (LSTM)               (None, 200, 60)           38640     \n",
      "                                                                 \n",
      " global_max_pooling1d_1 (Glo  (None, 60)               0         \n",
      " balMaxPooling1D)                                                \n",
      "                                                                 \n",
      " dropout_2 (Dropout)         (None, 60)                0         \n",
      "                                                                 \n",
      " dense_2 (Dense)             (None, 50)                3050      \n",
      "                                                                 \n",
      " dropout_3 (Dropout)         (None, 50)                0         \n",
      "                                                                 \n",
      " dense_3 (Dense)             (None, 6)                 306       \n",
      "                                                                 \n",
      "=================================================================\n",
      "Total params: 4,247,496\n",
      "Trainable params: 41,996\n",
      "Non-trainable params: 4,205,500\n",
      "_________________________________________________________________\n"
     ]
    }
   ],
   "source": [
    "# Création du modèle\n",
    "model = Sequential([\n",
    "    Embedding(vocab_size+1, embedding_dim, input_length=max_length, weights=[embeddings_matrix], trainable=False),\n",
    "    LSTM(units=60, return_sequences=True),\n",
    "    GlobalMaxPool1D(),\n",
    "    Dropout(0.1),\n",
    "    Dense(50, activation='relu'),\n",
    "    Dropout(0.1),\n",
    "    Dense(6, activation='sigmoid')\n",
    "])\n",
    "\n",
    "# Création de la métrique F1\n",
    "f1_score = tfa.metrics.F1Score(num_classes=6, threshold=0.9)\n",
    "\n",
    "# Compilation du modèle\n",
    "model.compile(optimizer='adam', loss=\"categorical_crossentropy\", metrics=['accuracy', f1_score])\n",
    "\n",
    "# Affichage du résumé du modèle\n",
    "model.summary()"
   ]
  },
  {
   "cell_type": "code",
   "execution_count": 19,
   "metadata": {},
   "outputs": [
    {
     "name": "stdout",
     "output_type": "stream",
     "text": [
      "Epoch 1/5\n",
      "422/422 [==============================] - 35s 79ms/step - loss: 0.9179 - accuracy: 0.7186 - f1_score: 0.0570 - val_loss: 0.3965 - val_accuracy: 0.9933 - val_f1_score: 0.3257\n",
      "Epoch 2/5\n",
      "422/422 [==============================] - 31s 73ms/step - loss: 2.3120 - accuracy: 0.9879 - f1_score: 0.3289 - val_loss: 0.8478 - val_accuracy: 0.9973 - val_f1_score: 0.3564\n",
      "Epoch 3/5\n",
      "422/422 [==============================] - 30s 71ms/step - loss: 3.8000 - accuracy: 0.9921 - f1_score: 0.3806 - val_loss: 2.1475 - val_accuracy: 0.9947 - val_f1_score: 0.3644\n",
      "Epoch 4/5\n",
      "422/422 [==============================] - 30s 72ms/step - loss: 6.8430 - accuracy: 0.9939 - f1_score: 0.3311 - val_loss: 2.7762 - val_accuracy: 0.9973 - val_f1_score: 0.1823\n",
      "Epoch 5/5\n",
      "422/422 [==============================] - 31s 73ms/step - loss: 9.1297 - accuracy: 0.9939 - f1_score: 0.3366 - val_loss: 5.3216 - val_accuracy: 0.9973 - val_f1_score: 0.3522\n"
     ]
    }
   ],
   "source": [
    "# Entrainement du modèle\n",
    "history = model.fit(train_sequences, train_labels, epochs=num_epochs, validation_data=(test_sequences, test_labels),batch_size=32)"
   ]
  },
  {
   "cell_type": "code",
   "execution_count": 20,
   "metadata": {},
   "outputs": [
    {
     "data": {
      "image/png": "[encoded data removed]",
      "text/plain": [
       "<Figure size 640x480 with 1 Axes>"
      ]
     },
     "metadata": {},
     "output_type": "display_data"
    },
    {
     "data": {
      "text/plain": [
       "<Figure size 640x480 with 0 Axes>"
      ]
     },
     "metadata": {},
     "output_type": "display_data"
    },
    {
     "name": "stdout",
     "output_type": "stream",
     "text": [
      "47/47 [==============================] - 1s 24ms/step\n",
      "F1 score : [0.4975124  0.29333332 0.5864662  0.03921569 0.57352936 0.12307692]\n"
     ]
    }
   ],
   "source": [
    "# Affichage des courbes de métriques\n",
    "acc=history.history['accuracy']\n",
    "val_acc=history.history['val_accuracy']\n",
    "\n",
    "epochs=range(len(acc))\n",
    "\n",
    "plt.plot(epochs, acc, 'r')\n",
    "plt.plot(epochs, val_acc, 'b')\n",
    "plt.title('Training and validation accuracy')\n",
    "plt.xlabel(\"Epochs\")\n",
    "plt.ylabel(\"Accuracy\")\n",
    "plt.legend([\"Accuracy\", \"Validation Accuracy\"])\n",
    "plt.figure()\n",
    "plt.show()\n",
    "\n",
    "# Affichage du F1 score\n",
    "predictions = model.predict(test_sequences)\n",
    "predictions = np.round(predictions)\n",
    "print(f\"F1 score : {f1_score(test_labels, predictions)}\")"
   ]
  },
  {
   "attachments": {},
   "cell_type": "markdown",
   "metadata": {},
   "source": [
    "# Pipeline et Classification"
   ]
  },
  {
   "cell_type": "code",
   "execution_count": 21,
   "metadata": {},
   "outputs": [
    {
     "name": "stdout",
     "output_type": "stream",
     "text": [
      "Phrase après prétraitement : fucking stupid hate\n"
     ]
    }
   ],
   "source": [
    "# Phrase à tester\n",
    "sentence = \"You are fucking stupid ! I hate you !\"\n",
    "\n",
    "# Passage en minuscule\n",
    "sentence = sentence.lower()\n",
    "\n",
    "# Tokenisation\n",
    "tokenizer = nltk.RegexpTokenizer(r'\\w+')\n",
    "sentence = tokenizer.tokenize(sentence)\n",
    "\n",
    "# Suppression des stopwords\n",
    "sentence = [word for word in sentence if word not in stopwords]\n",
    "\n",
    "# Lemmatisation\n",
    "sentence = [Word_Lemmatizer.lemmatize(word) for word in sentence]\n",
    "\n",
    "# Reconstitution de la phrase\n",
    "sentence = \" \".join(sentence)\n",
    "\n",
    "print(\"Phrase après prétraitement : \" + sentence)\n",
    "\n",
    "# Tokenisation de la phrase\n",
    "tokenizer = Tokenizer(num_words=20000)\n",
    "tokenizer.fit_on_texts(sentences)\n",
    "word_index = tokenizer.word_index\n",
    "vocab_size = len(word_index)\n",
    "sentence = tokenizer.texts_to_sequences([sentence])\n",
    "\n",
    "# Padding de la phrase\n",
    "sentence = tf.keras.preprocessing.sequence.pad_sequences(sentence, maxlen=41870, padding='post', truncating='post')"
   ]
  },
  {
   "cell_type": "code",
   "execution_count": 22,
   "metadata": {},
   "outputs": [
    {
     "name": "stdout",
     "output_type": "stream",
     "text": [
      "1/1 [==============================] - 1s 1s/step\n"
     ]
    },
    {
     "data": {
      "text/plain": [
       "array([[1., 1., 1., 1., 1., 1.]], dtype=float32)"
      ]
     },
     "execution_count": 22,
     "metadata": {},
     "output_type": "execute_result"
    }
   ],
   "source": [
    "# Prédiction du modèle\n",
    "model.predict(sentence)"
   ]
  }
 ],
 "metadata": {
  "kernelspec": {
   "display_name": "base",
   "language": "python",
   "name": "python3"
  },
  "language_info": {
   "codemirror_mode": {
    "name": "ipython",
    "version": 3
   },
   "file_extension": ".py",
   "mimetype": "text/x-python",
   "name": "python",
   "nbconvert_exporter": "python",
   "pygments_lexer": "ipython3",
   "version": "3.9.13"
  },
  "orig_nbformat": 4,
  "vscode": {
   "interpreter": {
    "hash": "2f8713e6620d5586a7c77fa3a271b64a2cce5896d09cc45c8aa03b75bcba257a"
   }
  }
 },
 "nbformat": 4,
 "nbformat_minor": 2
}
